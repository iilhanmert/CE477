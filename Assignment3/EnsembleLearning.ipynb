{
  "nbformat": 4,
  "nbformat_minor": 0,
  "metadata": {
    "colab": {
      "provenance": []
    },
    "kernelspec": {
      "name": "python3",
      "display_name": "Python 3"
    },
    "language_info": {
      "name": "python"
    }
  },
  "cells": [
    {
      "cell_type": "markdown",
      "source": [
        "**Ensemble Learning**"
      ],
      "metadata": {
        "id": "usWDtLcqtEOi"
      }
    },
    {
      "cell_type": "code",
      "source": [
        "import pandas as pd\n",
        "\n",
        "\n",
        "# Load the data from the CSV file\n",
        "data = pd.read_csv('/content/diabetes_prediction_dataset.csv')\n",
        "\n",
        "# Perform one-hot encoding on 'gender' and 'smoking_history' columns\n",
        "df = pd.get_dummies(data, columns=['gender', 'smoking_history'])"
      ],
      "metadata": {
        "id": "sBJzQ7eWHyUO"
      },
      "execution_count": null,
      "outputs": []
    },
    {
      "cell_type": "code",
      "source": [
        "from sklearn.ensemble import BaggingClassifier\n",
        "from sklearn.metrics import accuracy_score, precision_score, recall_score, f1_score\n",
        "from sklearn.linear_model import LogisticRegression\n",
        "from sklearn.model_selection import train_test_split\n",
        "\n",
        "X = df.drop(columns=['diabetes'])\n",
        "y = df['diabetes']\n",
        "X_train, X_test, y_train, y_test = train_test_split(X_scaled, y, test_size=0.2, random_state=42)\n",
        "\n",
        "# Bagging with Logistic Regression\n",
        "bagging = BaggingClassifier(estimator=LogisticRegression(max_iter=1000), n_estimators=50, random_state=42)\n",
        "bagging.fit(X_train, y_train)\n",
        "y_pred_bagging = bagging.predict(X_test)\n",
        "\n",
        "accuracy_bagging = accuracy_score(y_test, y_pred_bagging)\n",
        "precision_bagging = precision_score(y_test, y_pred_bagging)\n",
        "recall_bagging = recall_score(y_test, y_pred_bagging)\n",
        "f1_bagging = f1_score(y_test, y_pred_bagging)\n",
        "# Print the accuracy of each model\n",
        "print(\"Bagging - Accuracy:\", accuracy_bagging)\n",
        "print(\"Bagging - Precision:\", precision_bagging)\n",
        "print(\"Bagging - Recall:\", recall_bagging)\n",
        "print(\"Bagging - F1 Score:\", f1_bagging)\n"
      ],
      "metadata": {
        "colab": {
          "base_uri": "https://localhost:8080/"
        },
        "id": "P3muJLiTtNfh",
        "outputId": "35e8e192-aab3-4600-9a08-f2bdb968c28d"
      },
      "execution_count": null,
      "outputs": [
        {
          "output_type": "stream",
          "name": "stdout",
          "text": [
            "Bagging - Accuracy: 0.95895\n",
            "Bagging - Precision: 0.8638228055783429\n",
            "Bagging - Recall: 0.6165105386416861\n",
            "Bagging - F1 Score: 0.7195080286983259\n"
          ]
        }
      ]
    },
    {
      "cell_type": "code",
      "source": [
        "from sklearn.ensemble import AdaBoostClassifier\n",
        "from sklearn.metrics import precision_score, recall_score, f1_score\n",
        "\n",
        "\n",
        "adaboost = AdaBoostClassifier(base_estimator=LogisticRegression(), n_estimators=50, random_state=42)\n",
        "adaboost.fit(X_train, y_train)\n",
        "y_pred_adaboost = adaboost.predict(X_test)\n",
        "accuracy_adaboost = accuracy_score(y_test, y_pred_adaboost)\n",
        "precision_adaboost = precision_score(y_test, y_pred_adaboost)\n",
        "recall_adaboost = recall_score(y_test, y_pred_adaboost)\n",
        "f1_adaboost = f1_score(y_test, y_pred_adaboost)\n",
        "\n",
        "print(\"AdaBoost - Accuracy:\", accuracy_adaboost)\n",
        "print(\"AdaBoost - Precision:\", precision_adaboost)\n",
        "print(\"AdaBoost - Recall:\", recall_adaboost)\n",
        "print(\"AdaBoost - F1 Score:\", f1_adaboost)"
      ],
      "metadata": {
        "colab": {
          "base_uri": "https://localhost:8080/"
        },
        "id": "xXn4yK_UtNdG",
        "outputId": "b5e1a80a-bb0d-47f3-8056-52d70dfa824b"
      },
      "execution_count": null,
      "outputs": [
        {
          "output_type": "stream",
          "name": "stderr",
          "text": [
            "/usr/local/lib/python3.10/dist-packages/sklearn/ensemble/_base.py:166: FutureWarning: `base_estimator` was renamed to `estimator` in version 1.2 and will be removed in 1.4.\n",
            "  warnings.warn(\n"
          ]
        },
        {
          "output_type": "stream",
          "name": "stdout",
          "text": [
            "AdaBoost - Accuracy: 0.95945\n",
            "AdaBoost - Precision: 0.8528717545239969\n",
            "AdaBoost - Recall: 0.6346604215456675\n",
            "AdaBoost - F1 Score: 0.7277609936220208\n"
          ]
        }
      ]
    },
    {
      "cell_type": "code",
      "source": [
        "from sklearn.ensemble import RandomForestClassifier\n",
        "from sklearn.metrics import precision_score, recall_score, f1_score\n",
        "\n",
        "random_forest = RandomForestClassifier(n_estimators=100, random_state=42)\n",
        "random_forest.fit(X_train, y_train)\n",
        "y_pred_rf = random_forest.predict(X_test)\n",
        "\n",
        "accuracy_rf = accuracy_score(y_test, y_pred_rf)\n",
        "precision_rf = precision_score(y_test, y_pred_rf)\n",
        "recall_rf = recall_score(y_test, y_pred_rf)\n",
        "f1_rf = f1_score(y_test, y_pred_rf)\n",
        "print(\"Random Forest - Accuracy:\", accuracy_rf)\n",
        "print(\"Random Forest - Precision:\", precision_rf)\n",
        "print(\"Random Forest - Recall:\", recall_rf)\n",
        "print(\"Random Forest - F1 Score:\", f1_rf)\n",
        "\n",
        "print(\"Comparison of Accuracies:\\n Bagging: {}\\n AdaBoost: {}\\n Random Forest: {}\".format(accuracy_bagging, accuracy_adaboost, accuracy_rf))\n"
      ],
      "metadata": {
        "colab": {
          "base_uri": "https://localhost:8080/"
        },
        "id": "PS9S5NAntNau",
        "outputId": "479bbb33-f1ee-43c9-d95d-08eee2c377c4"
      },
      "execution_count": null,
      "outputs": [
        {
          "output_type": "stream",
          "name": "stdout",
          "text": [
            "Random Forest - Accuracy: 0.97005\n",
            "Random Forest - Precision: 0.9468170829975826\n",
            "Random Forest - Recall: 0.6879391100702577\n",
            "Random Forest - F1 Score: 0.7968802984062394\n",
            "Comparison of Accuracies:\n",
            " Bagging: 0.9576\n",
            " AdaBoost: 0.95945\n",
            " Random Forest: 0.97005\n"
          ]
        }
      ]
    }
  ]
}